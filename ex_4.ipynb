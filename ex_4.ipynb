{
 "cells": [
  {
   "cell_type": "code",
   "execution_count": 1,
   "metadata": {},
   "outputs": [],
   "source": [
    "import numpy as np\n",
    "from matplotlib import pyplot as plt\n",
    "import random\n",
    "import scipy.stats as sps\n",
    "\n",
    "import random"
   ]
  },
  {
   "cell_type": "code",
   "execution_count": 2,
   "metadata": {},
   "outputs": [],
   "source": [
    "theta = 25\n",
    "N = 100\n",
    "sampling = np.array([random.randint(theta, 2*theta) for _ in range(N)])"
   ]
  },
  {
   "cell_type": "markdown",
   "metadata": {},
   "source": [
    "### Ассимптотический доверительный интервал"
   ]
  },
  {
   "cell_type": "code",
   "execution_count": 3,
   "metadata": {},
   "outputs": [],
   "source": [
    "alpha_1 = np.average(sampling)\n",
    "alpha_2 = np.average(np.array([x**2 for x in sampling]))\n"
   ]
  },
  {
   "cell_type": "code",
   "execution_count": 4,
   "metadata": {},
   "outputs": [
    {
     "name": "stdout",
     "output_type": "stream",
     "text": [
      "23.8832275282534 < Q < 25.756772471746594\n",
      "l = 1.8735449434931937\n"
     ]
    }
   ],
   "source": [
    "q_1 = -1.96*(2/3)*np.sqrt(alpha_2 - alpha_1**2)/N**0.5 + 2/3*alpha_1\n",
    "q_2 = 1.96*(2/3)*np.sqrt(alpha_2 - alpha_1**2)/N**0.5 + 2/3*alpha_1\n",
    "print(f\"{q_1} < Q < {q_2}\")\n",
    "print(f\"l = {q_2 - q_1}\")"
   ]
  },
  {
   "cell_type": "markdown",
   "metadata": {},
   "source": [
    "### Бутстрепоский доверительный интервал"
   ]
  },
  {
   "cell_type": "code",
   "execution_count": 5,
   "metadata": {},
   "outputs": [],
   "source": [
    "theta_wave = (5*N + 4)/(5*N + 5) * 0.2 * (np.min(sampling) + 2* np.max(sampling)) # 3-я оценка\n",
    "butstrap_N = 100000"
   ]
  },
  {
   "cell_type": "code",
   "execution_count": 6,
   "metadata": {},
   "outputs": [
    {
     "name": "stdout",
     "output_type": "stream",
     "text": [
      "24.95049504950495 < Q < 25.15009900990099\n",
      "l = 0.19960396039603978\n"
     ]
    }
   ],
   "source": [
    "butstrap_arr = np.zeros((butstrap_N))\n",
    "for i in range(butstrap_N):\n",
    "    # tmp = np.array([np.random.choice(sampling) for _ in range(N)])\n",
    "    tmp = np.random.choice(sampling, size=N, replace=True)\n",
    "    butstrap_arr[i] = theta_wave - ((5*N + 4)/(5*N + 5) * 0.2 * (np.min(tmp) + 2* np.max(tmp)))\n",
    "\n",
    "butstrap_arr_mode = np.sort(butstrap_arr)\n",
    "\n",
    "betta = 0.95\n",
    "delta_1 = int(butstrap_N*(1 - betta)/2)\n",
    "delta_2 = int(butstrap_N*(1 + betta)/2)\n",
    "\n",
    "print(f\"{theta_wave - butstrap_arr_mode[delta_2]} < Q < {theta_wave - butstrap_arr_mode[delta_1]}\")\n",
    "\n",
    "print(f\"l = {butstrap_arr_mode[delta_2] - butstrap_arr_mode[delta_1]}\")"
   ]
  },
  {
   "cell_type": "code",
   "execution_count": null,
   "metadata": {},
   "outputs": [],
   "source": []
  }
 ],
 "metadata": {
  "kernelspec": {
   "display_name": "Python 3",
   "language": "python",
   "name": "python3"
  },
  "language_info": {
   "codemirror_mode": {
    "name": "ipython",
    "version": 3
   },
   "file_extension": ".py",
   "mimetype": "text/x-python",
   "name": "python",
   "nbconvert_exporter": "python",
   "pygments_lexer": "ipython3",
   "version": "3.8.10"
  }
 },
 "nbformat": 4,
 "nbformat_minor": 2
}

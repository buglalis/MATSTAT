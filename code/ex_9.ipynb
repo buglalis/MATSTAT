{
 "cells": [
  {
   "cell_type": "markdown",
   "metadata": {},
   "source": [
    "## Задание №9"
   ]
  },
  {
   "cell_type": "markdown",
   "metadata": {},
   "source": [
    "|<!-- -->|<!-- -->|<!-- -->|<!-- -->|<!-- -->|<!-- -->|<!-- -->|<!-- -->|<!-- -->|<!-- -->|<!-- -->|\n",
    "|:------:|:-:|:-:|:-:|:-:|:-:|:-:|:-:|:-:|:-:|:-:|\n",
    "| цифра  | 0 | 1 | 2 | 3 | 4 | 5 | 6 | 7 | 8 | 9 |\n",
    "| кол-во | 5 | 8 | 6 | 12| 14| 18| 11| 6 | 13| 7 |\n",
    "\n",
    "n = 100"
   ]
  },
  {
   "cell_type": "markdown",
   "metadata": {},
   "source": [
    "## a) \n",
    "Проверить гипотезу о согласии данных с законом равномерного рас-пределения с помощью критерия $\\chi^2 $ и с помощью критерия Колмо-горова. Сравнить результаты."
   ]
  },
  {
   "cell_type": "markdown",
   "metadata": {},
   "source": [
    "$H_0: \\;\\; \\xi\\thicksim R(0.5,9.5)$  \n",
    "$H_1: \\;\\; \\overline H_0$  \n",
    "$p_0 = p_1 = ... = p_9 = 0.1 $  \n",
    "$ \\tilde P(A_i) = \\mathcal{V}_i $  \n",
    "$ \\tilde \\Delta = \\sum_{i}^{m}\\frac{(m_i -n p_i)^2}{n p_i}$"
   ]
  },
  {
   "cell_type": "code",
   "execution_count": 15,
   "metadata": {},
   "outputs": [],
   "source": [
    "import numpy as np\n",
    "import matplotlib.pyplot as plt"
   ]
  },
  {
   "cell_type": "code",
   "execution_count": 16,
   "metadata": {},
   "outputs": [
    {
     "name": "stdout",
     "output_type": "stream",
     "text": [
      "Дельта с волной = 16.4\n"
     ]
    }
   ],
   "source": [
    "n = 100\n",
    "p = 1/10\n",
    "alpha = 0.05\n",
    "data = np.array([5, 8, 6, 12, 14, 18, 11, 6, 13, 7])\n",
    "nu = data/100\n",
    "tilde_delta = np.sum((data - p*n)**2/(n*p))\n",
    "print(f'Дельта с волной = {tilde_delta}')"
   ]
  },
  {
   "cell_type": "markdown",
   "metadata": {},
   "source": [
    "<!-- Картинка -->\n",
    "<img src=\"./.data/ex_9_1.jpg\" width=\"300px\">\n",
    "\n",
    "<!-- Картинка -->\n",
    "<img src=\"./.data/ex_9_2.jpg\" width=\"400px\">"
   ]
  },
  {
   "cell_type": "markdown",
   "metadata": {},
   "source": [
    "### По критерию Колмогорова"
   ]
  },
  {
   "cell_type": "code",
   "execution_count": 17,
   "metadata": {},
   "outputs": [
    {
     "data": {
      "image/png": "[encoded data removed]",
      "text/plain": [
       "<Figure size 720x360 with 1 Axes>"
      ]
     },
     "metadata": {
      "needs_background": "light"
     },
     "output_type": "display_data"
    }
   ],
   "source": [
    "fig, ax = plt.subplots(figsize=(10,5))\n",
    "ax.step(np.linspace(0.5, 9.5, 10) - 0.5, np.cumsum(np.sort(data/np.sum(data))) - 0.05, label='Эмпирическая функция распределения(плотность)')\n",
    "plt.plot([0, 10], [0,1], label='Предполагаемая ф-я распределения (плотность)')\n",
    "ax.legend()\n",
    "plt.show()"
   ]
  },
  {
   "cell_type": "markdown",
   "metadata": {},
   "source": [
    "<!-- Картинка -->\n",
    "<img src=\"./.data/ex_9_3.jpg\" width=\"400px\">"
   ]
  },
  {
   "cell_type": "code",
   "execution_count": 18,
   "metadata": {},
   "outputs": [
    {
     "name": "stdout",
     "output_type": "stream",
     "text": [
      "Дельта с волной = 1.3\n",
      "p-value = 0.06809222184476638\n"
     ]
    }
   ],
   "source": [
    "cumulative_sum = np.cumsum(np.sort(data/np.sum(data))) - 0.05\n",
    "tilde_delta = np.sqrt(n) * np.max([np.max([abs(cumulative_sum[i] - 1/10*i), abs(cumulative_sum[i] - 1/10*i) ]) for i in range(10 - 1)])\n",
    "\n",
    "print(f'Дельта с волной = {tilde_delta}')\n",
    "\n",
    "k = 100\n",
    "kolmog_sum = 0\n",
    "\n",
    "for i in range(1, k + 1):\n",
    "    kolmog_sum += (-1) ** i * np.exp(-2 * i ** (2) * tilde_delta ** 2)\n",
    "\n",
    "kolmog_sum = 1 + 2 * kolmog_sum\n",
    "p_val = 1 - kolmog_sum\n",
    "print(f'p-value = {p_val}')"
   ]
  },
  {
   "cell_type": "markdown",
   "metadata": {},
   "source": [
    "p-value > 0.05 => нет оснований отвергнуть $H_0$"
   ]
  },
  {
   "cell_type": "markdown",
   "metadata": {},
   "source": [
    "## b) \n",
    "Проверить гипотезу о согласии данных с законом нормального рас-пределения с помощью критерия $\\chi^2 $ (оценки неизвестных параметров определить численно, максимизируя функцию правдоподобия, построенную по группированной выборке) и с помощью критерия Колмогорова (распределение критерия определить бутстрапом). Сравнить результаты."
   ]
  },
  {
   "cell_type": "markdown",
   "metadata": {},
   "source": [
    "### По $\\chi^2 $"
   ]
  }
 ],
 "metadata": {
  "kernelspec": {
   "display_name": "Python 3",
   "language": "python",
   "name": "python3"
  },
  "language_info": {
   "codemirror_mode": {
    "name": "ipython",
    "version": 3
   },
   "file_extension": ".py",
   "mimetype": "text/x-python",
   "name": "python",
   "nbconvert_exporter": "python",
   "pygments_lexer": "ipython3",
   "version": "3.8.10"
  }
 },
 "nbformat": 4,
 "nbformat_minor": 2
}
